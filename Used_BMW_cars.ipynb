{
 "cells": [
  {
   "cell_type": "markdown",
   "metadata": {},
   "source": [
    "### Imports"
   ]
  },
  {
   "cell_type": "code",
   "execution_count": 33,
   "metadata": {},
   "outputs": [],
   "source": [
    "from bs4 import BeautifulSoup\n",
    "import requests\n",
    "import pandas as pd \n",
    "import matplotlib.pyplot as plt"
   ]
  },
  {
   "cell_type": "markdown",
   "metadata": {},
   "source": [
    "### Webpage Request"
   ]
  },
  {
   "cell_type": "markdown",
   "metadata": {},
   "source": [
    "#### storing webpage in variable"
   ]
  },
  {
   "cell_type": "code",
   "execution_count": 22,
   "metadata": {},
   "outputs": [],
   "source": [
    "website = 'https://www.cars.com/shopping/results/?dealer_id=&keyword=&list_price_max=&list_price_min=&makes[]=bmw&maximum_distance=all&mileage_max=&monthly_payment=&page_size=20&sort=best_match_desc&stock_type=used&year_max=&year_min=&zip='"
   ]
  },
  {
   "cell_type": "markdown",
   "metadata": {},
   "source": [
    "#### Requesting webpage"
   ]
  },
  {
   "cell_type": "code",
   "execution_count": 23,
   "metadata": {},
   "outputs": [],
   "source": [
    "response = requests.get(website)"
   ]
  },
  {
   "cell_type": "markdown",
   "metadata": {},
   "source": [
    "#### Checking status"
   ]
  },
  {
   "cell_type": "code",
   "execution_count": 24,
   "metadata": {},
   "outputs": [
    {
     "data": {
      "text/plain": [
       "200"
      ]
     },
     "execution_count": 24,
     "metadata": {},
     "output_type": "execute_result"
    }
   ],
   "source": [
    "response.status_code"
   ]
  },
  {
   "cell_type": "code",
   "execution_count": 25,
   "metadata": {},
   "outputs": [],
   "source": [
    "soup = BeautifulSoup(response.content, 'html.parser')"
   ]
  },
  {
   "cell_type": "markdown",
   "metadata": {},
   "source": [
    "### Results"
   ]
  },
  {
   "cell_type": "code",
   "execution_count": 26,
   "metadata": {},
   "outputs": [],
   "source": [
    "results = soup.find_all('div', {'class' : 'vehicle-card'})"
   ]
  },
  {
   "cell_type": "code",
   "execution_count": 27,
   "metadata": {},
   "outputs": [
    {
     "data": {
      "text/plain": [
       "20"
      ]
     },
     "execution_count": 27,
     "metadata": {},
     "output_type": "execute_result"
    }
   ],
   "source": [
    "len(results)"
   ]
  },
  {
   "cell_type": "markdown",
   "metadata": {},
   "source": [
    "### Targeted data"
   ]
  },
  {
   "cell_type": "code",
   "execution_count": null,
   "metadata": {},
   "outputs": [],
   "source": [
    "#name\n",
    "#mileage\n",
    "#dealer_name\n",
    "#price"
   ]
  },
  {
   "cell_type": "markdown",
   "metadata": {},
   "source": [
    "#### Name"
   ]
  },
  {
   "cell_type": "code",
   "execution_count": 29,
   "metadata": {},
   "outputs": [
    {
     "data": {
      "text/plain": [
       "'2021 BMW X5 xDrive40i'"
      ]
     },
     "execution_count": 29,
     "metadata": {},
     "output_type": "execute_result"
    }
   ],
   "source": [
    "results[0].find('h2').get_text()"
   ]
  },
  {
   "cell_type": "markdown",
   "metadata": {},
   "source": [
    "#### Mileage"
   ]
  },
  {
   "cell_type": "code",
   "execution_count": 30,
   "metadata": {},
   "outputs": [
    {
     "ename": "SyntaxError",
     "evalue": "invalid syntax (2068315140.py, line 1)",
     "output_type": "error",
     "traceback": [
      "\u001b[1;36m  Cell \u001b[1;32mIn[30], line 1\u001b[1;36m\u001b[0m\n\u001b[1;33m    results[0].find('div', {'class':'mileage'}) get.text()\u001b[0m\n\u001b[1;37m                                                ^\u001b[0m\n\u001b[1;31mSyntaxError\u001b[0m\u001b[1;31m:\u001b[0m invalid syntax\n"
     ]
    }
   ],
   "source": [
    "results[0].find('div', {'class':'mileage'}) get.text()\n",
    "\n"
   ]
  },
  {
   "cell_type": "markdown",
   "metadata": {},
   "source": [
    "#### Dealer Name"
   ]
  },
  {
   "cell_type": "code",
   "execution_count": null,
   "metadata": {},
   "outputs": [
    {
     "data": {
      "text/plain": [
       "'Pacific BMW'"
      ]
     },
     "execution_count": 37,
     "metadata": {},
     "output_type": "execute_result"
    }
   ],
   "source": [
    "results[0].find('div', {'class':'dealer-name'}).get_text().strip()"
   ]
  },
  {
   "cell_type": "markdown",
   "metadata": {},
   "source": [
    "#### Price"
   ]
  },
  {
   "cell_type": "code",
   "execution_count": null,
   "metadata": {},
   "outputs": [
    {
     "data": {
      "text/plain": [
       "'$34,999'"
      ]
     },
     "execution_count": 19,
     "metadata": {},
     "output_type": "execute_result"
    }
   ],
   "source": [
    "results[0].find('span', {'class':'primary-price'}).get_text()"
   ]
  },
  {
   "cell_type": "markdown",
   "metadata": {},
   "source": [
    "### Put everything together inside a For-Loop"
   ]
  },
  {
   "cell_type": "code",
   "execution_count": null,
   "metadata": {},
   "outputs": [],
   "source": [
    "name = []\n",
    "mileage = []\n",
    "dealer_name = []\n",
    "price = []\n",
    "\n",
    "for result in results:\n",
    "    \n",
    "    # name\n",
    "    try:\n",
    "        name.append(result.find('h2').get_text()) \n",
    "    except:\n",
    "        name.append('n/a')\n",
    "    \n",
    "    # mileage\n",
    "    try:\n",
    "        mileage.append(result.find('div', {'class':'mileage'}).get_text())\n",
    "    except:\n",
    "        mileage.append('n/a')\n",
    "    \n",
    "    # dealer_name\n",
    "    try:\n",
    "        dealer_name.append(result.find('div', {'class':'dealer-name'}).get_text().strip())\n",
    "    except:\n",
    "        dealer_name.append('n/a')\n",
    "        \n",
    "       \n",
    "    #price \n",
    "    try:\n",
    "        price.append(result.find('span', {'class':'primary-price'}).get_text())\n",
    "    except:\n",
    "        price.append('n/a')"
   ]
  },
  {
   "cell_type": "markdown",
   "metadata": {},
   "source": [
    "### Create Pandas Dataframe"
   ]
  },
  {
   "cell_type": "code",
   "execution_count": null,
   "metadata": {},
   "outputs": [],
   "source": [
    "# dictionary\n",
    "car_dealer = pd.DataFrame({'Name': name, 'Mileage':mileage, 'Dealer Name':dealer_name,\n",
    "                                 'Price': price})"
   ]
  },
  {
   "cell_type": "code",
   "execution_count": null,
   "metadata": {},
   "outputs": [
    {
     "data": {
      "text/html": [
       "<div>\n",
       "<style scoped>\n",
       "    .dataframe tbody tr th:only-of-type {\n",
       "        vertical-align: middle;\n",
       "    }\n",
       "\n",
       "    .dataframe tbody tr th {\n",
       "        vertical-align: top;\n",
       "    }\n",
       "\n",
       "    .dataframe thead th {\n",
       "        text-align: right;\n",
       "    }\n",
       "</style>\n",
       "<table border=\"1\" class=\"dataframe\">\n",
       "  <thead>\n",
       "    <tr style=\"text-align: right;\">\n",
       "      <th></th>\n",
       "      <th>Name</th>\n",
       "      <th>Mileage</th>\n",
       "      <th>Dealer Name</th>\n",
       "      <th>Price</th>\n",
       "    </tr>\n",
       "  </thead>\n",
       "  <tbody>\n",
       "    <tr>\n",
       "      <th>0</th>\n",
       "      <td>2021 BMW 330e xDrive</td>\n",
       "      <td>30,852 mi.</td>\n",
       "      <td>BMW of North Haven</td>\n",
       "      <td>$37,499</td>\n",
       "    </tr>\n",
       "    <tr>\n",
       "      <th>1</th>\n",
       "      <td>2022 BMW X3 xDrive30i</td>\n",
       "      <td>17,697 mi.</td>\n",
       "      <td>Tulley Automotive Group</td>\n",
       "      <td>$42,997</td>\n",
       "    </tr>\n",
       "    <tr>\n",
       "      <th>2</th>\n",
       "      <td>2019 BMW 330 i xDrive</td>\n",
       "      <td>26,048 mi.</td>\n",
       "      <td>Rairdon's Auto Outlet</td>\n",
       "      <td>$28,995</td>\n",
       "    </tr>\n",
       "    <tr>\n",
       "      <th>3</th>\n",
       "      <td>2013 BMW 335 i</td>\n",
       "      <td>36,178 mi.</td>\n",
       "      <td>GETTEL GENESIS OF SARASOTA</td>\n",
       "      <td>$18,491</td>\n",
       "    </tr>\n",
       "    <tr>\n",
       "      <th>4</th>\n",
       "      <td>2020 BMW M550 i xDrive</td>\n",
       "      <td>39,693 mi.</td>\n",
       "      <td>BMW of Bridgeport</td>\n",
       "      <td>$53,970</td>\n",
       "    </tr>\n",
       "    <tr>\n",
       "      <th>5</th>\n",
       "      <td>2021 BMW M340 i xDrive</td>\n",
       "      <td>14,167 mi.</td>\n",
       "      <td>Jeff Wyler Superior Kia</td>\n",
       "      <td>$47,799</td>\n",
       "    </tr>\n",
       "    <tr>\n",
       "      <th>6</th>\n",
       "      <td>2021 BMW X1 xDrive28i</td>\n",
       "      <td>18,148 mi.</td>\n",
       "      <td>Perillo BMW</td>\n",
       "      <td>$33,999</td>\n",
       "    </tr>\n",
       "    <tr>\n",
       "      <th>7</th>\n",
       "      <td>2020 BMW X6 xDrive40i</td>\n",
       "      <td>60,760 mi.</td>\n",
       "      <td>Huntley Ford</td>\n",
       "      <td>$49,949</td>\n",
       "    </tr>\n",
       "    <tr>\n",
       "      <th>8</th>\n",
       "      <td>2020 BMW M4 Base</td>\n",
       "      <td>31,074 mi.</td>\n",
       "      <td>BMW of Alexandria</td>\n",
       "      <td>$59,998</td>\n",
       "    </tr>\n",
       "    <tr>\n",
       "      <th>9</th>\n",
       "      <td>2021 BMW X5 xDrive40i</td>\n",
       "      <td>28,542 mi.</td>\n",
       "      <td>Perillo BMW</td>\n",
       "      <td>$52,888</td>\n",
       "    </tr>\n",
       "    <tr>\n",
       "      <th>10</th>\n",
       "      <td>2016 BMW 328 i xDrive SULEV</td>\n",
       "      <td>77,323 mi.</td>\n",
       "      <td>BMW of Warwick</td>\n",
       "      <td>$22,995</td>\n",
       "    </tr>\n",
       "    <tr>\n",
       "      <th>11</th>\n",
       "      <td>2020 BMW X7 xDrive40i</td>\n",
       "      <td>36,804 mi.</td>\n",
       "      <td>Perillo BMW</td>\n",
       "      <td>$59,888</td>\n",
       "    </tr>\n",
       "    <tr>\n",
       "      <th>12</th>\n",
       "      <td>2017 BMW X5 xDrive35i</td>\n",
       "      <td>58,667 mi.</td>\n",
       "      <td>Burnsville Motors</td>\n",
       "      <td>$28,829</td>\n",
       "    </tr>\n",
       "    <tr>\n",
       "      <th>13</th>\n",
       "      <td>2008 BMW 335 i</td>\n",
       "      <td>91,995 mi.</td>\n",
       "      <td>Auto Connections Seattle</td>\n",
       "      <td>$13,088</td>\n",
       "    </tr>\n",
       "    <tr>\n",
       "      <th>14</th>\n",
       "      <td>2021 BMW X5 xDrive40i</td>\n",
       "      <td>38,490 mi.</td>\n",
       "      <td>Mcgee Toyota of Dudley</td>\n",
       "      <td>$51,694</td>\n",
       "    </tr>\n",
       "    <tr>\n",
       "      <th>15</th>\n",
       "      <td>2018 BMW M550 i xDrive</td>\n",
       "      <td>32,176 mi.</td>\n",
       "      <td>Shottenkirk Honda Huntsville</td>\n",
       "      <td>$40,588</td>\n",
       "    </tr>\n",
       "    <tr>\n",
       "      <th>16</th>\n",
       "      <td>2022 BMW 430 i xDrive</td>\n",
       "      <td>5,996 mi.</td>\n",
       "      <td>BMW of Shrewsbury</td>\n",
       "      <td>$48,250</td>\n",
       "    </tr>\n",
       "    <tr>\n",
       "      <th>17</th>\n",
       "      <td>2015 BMW 528 xDrive</td>\n",
       "      <td>96,561 mi.</td>\n",
       "      <td>PA AUTO LIQUIDATORS</td>\n",
       "      <td>$14,900</td>\n",
       "    </tr>\n",
       "    <tr>\n",
       "      <th>18</th>\n",
       "      <td>2022 BMW 540 i xDrive</td>\n",
       "      <td>5,718 mi.</td>\n",
       "      <td>Pointe Buick GMC, LLC</td>\n",
       "      <td>$56,775</td>\n",
       "    </tr>\n",
       "    <tr>\n",
       "      <th>19</th>\n",
       "      <td>2019 BMW X5 xDrive40i</td>\n",
       "      <td>40,998 mi.</td>\n",
       "      <td>BMW of Darien</td>\n",
       "      <td>$39,495</td>\n",
       "    </tr>\n",
       "  </tbody>\n",
       "</table>\n",
       "</div>"
      ],
      "text/plain": [
       "                           Name     Mileage                   Dealer Name  \\\n",
       "0          2021 BMW 330e xDrive  30,852 mi.            BMW of North Haven   \n",
       "1         2022 BMW X3 xDrive30i  17,697 mi.       Tulley Automotive Group   \n",
       "2         2019 BMW 330 i xDrive  26,048 mi.         Rairdon's Auto Outlet   \n",
       "3                2013 BMW 335 i  36,178 mi.    GETTEL GENESIS OF SARASOTA   \n",
       "4        2020 BMW M550 i xDrive  39,693 mi.             BMW of Bridgeport   \n",
       "5        2021 BMW M340 i xDrive  14,167 mi.       Jeff Wyler Superior Kia   \n",
       "6         2021 BMW X1 xDrive28i  18,148 mi.                   Perillo BMW   \n",
       "7         2020 BMW X6 xDrive40i  60,760 mi.                  Huntley Ford   \n",
       "8              2020 BMW M4 Base  31,074 mi.             BMW of Alexandria   \n",
       "9         2021 BMW X5 xDrive40i  28,542 mi.                   Perillo BMW   \n",
       "10  2016 BMW 328 i xDrive SULEV  77,323 mi.                BMW of Warwick   \n",
       "11        2020 BMW X7 xDrive40i  36,804 mi.                   Perillo BMW   \n",
       "12        2017 BMW X5 xDrive35i  58,667 mi.             Burnsville Motors   \n",
       "13               2008 BMW 335 i  91,995 mi.      Auto Connections Seattle   \n",
       "14        2021 BMW X5 xDrive40i  38,490 mi.        Mcgee Toyota of Dudley   \n",
       "15       2018 BMW M550 i xDrive  32,176 mi.  Shottenkirk Honda Huntsville   \n",
       "16        2022 BMW 430 i xDrive   5,996 mi.             BMW of Shrewsbury   \n",
       "17          2015 BMW 528 xDrive  96,561 mi.           PA AUTO LIQUIDATORS   \n",
       "18        2022 BMW 540 i xDrive   5,718 mi.         Pointe Buick GMC, LLC   \n",
       "19        2019 BMW X5 xDrive40i  40,998 mi.                 BMW of Darien   \n",
       "\n",
       "      Price  \n",
       "0   $37,499  \n",
       "1   $42,997  \n",
       "2   $28,995  \n",
       "3   $18,491  \n",
       "4   $53,970  \n",
       "5   $47,799  \n",
       "6   $33,999  \n",
       "7   $49,949  \n",
       "8   $59,998  \n",
       "9   $52,888  \n",
       "10  $22,995  \n",
       "11  $59,888  \n",
       "12  $28,829  \n",
       "13  $13,088  \n",
       "14  $51,694  \n",
       "15  $40,588  \n",
       "16  $48,250  \n",
       "17  $14,900  \n",
       "18  $56,775  \n",
       "19  $39,495  "
      ]
     },
     "execution_count": 17,
     "metadata": {},
     "output_type": "execute_result"
    }
   ],
   "source": [
    "car_dealer"
   ]
  },
  {
   "cell_type": "code",
   "execution_count": null,
   "metadata": {},
   "outputs": [],
   "source": [
    "#idea for visualizaztion of data\n",
    "#find relationship between mileage and price for the same BMW model and possibly develop a\n",
    "#predicting function for price based on mileage for specific models eg BMW530i\n",
    "#pagenation exercise not completed so not enough data points for using a specic BMW model"
   ]
  },
  {
   "cell_type": "code",
   "execution_count": 39,
   "metadata": {},
   "outputs": [
    {
     "data": {
      "image/png": "[encoded data removed]",
      "text/plain": [
       "<Figure size 1000x600 with 1 Axes>"
      ]
     },
     "metadata": {},
     "output_type": "display_data"
    }
   ],
   "source": [
    "mileagep = car_dealer['Mileage']\n",
    "pricep = car_dealer['Price']\n",
    "\n",
    "plt.figure(figsize=(10, 6))  # Optional: Set the figure size\n",
    "plt.scatter(mileagep, pricep, marker='o', color='blue', alpha=0.5)\n",
    "plt.title('Mileage vs. Price')\n",
    "plt.xlabel('Mileage')\n",
    "plt.ylabel('Price')\n",
    "plt.grid(True)\n",
    "plt.show()\n"
   ]
  }
 ],
 "metadata": {
  "kernelspec": {
   "display_name": "Python 3",
   "language": "python",
   "name": "python3"
  },
  "language_info": {
   "codemirror_mode": {
    "name": "ipython",
    "version": 3
   },
   "file_extension": ".py",
   "mimetype": "text/x-python",
   "name": "python",
   "nbconvert_exporter": "python",
   "pygments_lexer": "ipython3",
   "version": "3.11.4"
  }
 },
 "nbformat": 4,
 "nbformat_minor": 4
}
